{
  "cells": [
    {
      "cell_type": "code",
      "execution_count": 20,
      "metadata": {
        "id": "oeNXZngqxdbz"
      },
      "outputs": [],
      "source": [
        "import pandas as pd\n",
        "from sklearn.model_selection import train_test_split\n",
        "from sklearn.preprocessing import LabelEncoder\n",
        "from sklearn.naive_bayes import GaussianNB\n",
        "from sklearn.metrics import accuracy_score, classification_report, confusion_matrix\n",
        "import seaborn as sns\n",
        "import matplotlib.pyplot as plt\n",
        "\n",
        "# Cargar el conjunto de datos\n",
        "ruta_archivo = 'data_evaluacion.csv'\n",
        "data = pd.read_csv(ruta_archivo)"
      ]
    },
    {
      "cell_type": "code",
      "execution_count": 21,
      "metadata": {
        "id": "n3GbBeYbxdb4"
      },
      "outputs": [],
      "source": [
        "# Renombrar columnas para facilitar el acceso\n",
        "data.columns = ['edad', 'sector_trabajo', 'fnlwgt', 'educacion', 'num_educacion', 'estado_civil',\n",
        "                'ocupacion', 'relacion', 'raza', 'sexo', 'ganancia_capital', 'perdida_capital',\n",
        "                'horas_por_semana', 'pais_nativo', 'ingreso']"
      ]
    },
    {
      "cell_type": "code",
      "execution_count": 22,
      "metadata": {
        "id": "mhjPsPCRxdb6"
      },
      "outputs": [],
      "source": [
        "# Codificar variables categóricas\n",
        "label_encoders = {}\n",
        "for column in data.select_dtypes(include=['object']).columns:\n",
        "    le = LabelEncoder()\n",
        "    data[column] = le.fit_transform(data[column])\n",
        "    label_encoders[column] = le"
      ]
    },
    {
      "cell_type": "code",
      "execution_count": 23,
      "metadata": {
        "id": "Sxhg9mFWxdb8"
      },
      "outputs": [],
      "source": [
        "# Dividir los datos en características y variable objetivo\n",
        "X = data.drop('ingreso', axis=1)\n",
        "y = data['ingreso']\n",
        "\n",
        "# Dividir los datos en conjuntos de entrenamiento y prueba\n",
        "X_train, X_test, y_train, y_test = train_test_split(X, y, test_size=0.2, random_state=42)"
      ]
    },
    {
      "cell_type": "code",
      "execution_count": 24,
      "metadata": {
        "id": "Jho9FSJixdb8"
      },
      "outputs": [],
      "source": [
        "# Inicializar y entrenar el clasificador Gaussian Naive Bayes\n",
        "gnb = GaussianNB()\n",
        "gnb.fit(X_train, y_train)\n",
        "\n",
        "# Hacer predicciones\n",
        "y_pred = gnb.predict(X_test)\n",
        "y_train_pred = gnb.predict(X_train)\n"
      ]
    },
    {
      "cell_type": "code",
      "execution_count": 25,
      "metadata": {
        "id": "Nu4RGvfIxdb9"
      },
      "outputs": [],
      "source": [
        "# Evaluar el modelo\n",
        "accuracy = accuracy_score(y_test, y_pred)\n",
        "report = classification_report(y_test, y_pred, output_dict=True)\n",
        "conf_matrix = confusion_matrix(y_test, y_pred)"
      ]
    },
    {
      "cell_type": "code",
      "execution_count": 26,
      "metadata": {
        "id": "sqArhDyDxdb9"
      },
      "outputs": [],
      "source": [
        "# Crear un DataFrame para el informe de clasificación\n",
        "report_df = pd.DataFrame(report).transpose()\n",
        "\n",
        "# Crear un DataFrame para la matriz de confusión\n",
        "conf_matrix_df = pd.DataFrame(conf_matrix, index=[\"<=50K\", \">50K\"], columns=[\"<=50K\", \">50K\"])"
      ]
    },
    {
      "cell_type": "code",
      "execution_count": 27,
      "metadata": {
        "colab": {
          "base_uri": "https://localhost:8080/",
          "height": 755
        },
        "id": "2-73mzUjxdb9",
        "outputId": "396c191a-48d8-4508-a4d0-c329a2519c06"
      },
      "outputs": [
        {
          "output_type": "display_data",
          "data": {
            "text/plain": [
              "<Figure size 1000x600 with 2 Axes>"
            ],
            "image/png": "[encoded data removed]"
          },
          "metadata": {}
        },
        {
          "output_type": "stream",
          "name": "stdout",
          "text": [
            "Train Accuracy: 0.7942260442260443\n",
            "Acurracy0.7972156822602109\n",
            "              precision    recall  f1-score      support\n",
            "0              0.815877  0.948687  0.877284  7464.000000\n",
            "1              0.648624  0.306725  0.416495  2305.000000\n",
            "accuracy       0.797216  0.797216  0.797216     0.797216\n",
            "macro avg      0.732251  0.627706  0.646890  9769.000000\n",
            "weighted avg   0.776414  0.797216  0.768561  9769.000000\n",
            "       <=50K  >50K\n",
            "<=50K   7081   383\n",
            ">50K    1598   707\n"
          ]
        }
      ],
      "source": [
        "# Graficar la matriz de confusión\n",
        "plt.figure(figsize=(10, 6))\n",
        "sns.heatmap(conf_matrix_df, annot=True, fmt=\"d\", cmap=\"Blues\")\n",
        "plt.title(\"Matriz de Confusión\")\n",
        "plt.ylabel(\"Clase Real\")\n",
        "plt.xlabel(\"Clase Predicha\")\n",
        "plt.show()\n",
        "\n",
        "# Mostrar el informe de clasificación\n",
        "print(\"Train Accuracy:\", accuracy_score(y_train, y_train_pred))\n",
        "print(\"Acurracy: \"+str(accuracy))\n",
        "print(report_df)\n",
        "print(conf_matrix_df)"
      ]
    },
    {
      "cell_type": "markdown",
      "source": [
        "##  Conclusiones\n",
        "Para Bayes vemos que tenemos un Acurracy del 0.79% lo cual es bueno para el modelo. Vemos que al igual que los anteriores algoritmos predice de mejor forma la clase de \"<=50\" con una presición del 0.815877.  \n",
        "\n",
        "En la matriz de confusión vemos que su diagonal principal es superior frente a la diagonal secundaria lo que indica que el modelo acierta y predice bien. Pero vemos que hay una cantidad considerable de falsos negativos cerca del 1598 de veces\n",
        "\n",
        "En el equilibrio de aprendizaje vemos que para train y test la diferencia del acurracy es minima esto quiere decir que el modelo está bien ajustado y aprende bien."
      ],
      "metadata": {
        "id": "Hl_bHGv4yWa5"
      }
    }
  ],
  "metadata": {
    "kernelspec": {
      "display_name": "base",
      "language": "python",
      "name": "python3"
    },
    "language_info": {
      "codemirror_mode": {
        "name": "ipython",
        "version": 3
      },
      "file_extension": ".py",
      "mimetype": "text/x-python",
      "name": "python",
      "nbconvert_exporter": "python",
      "pygments_lexer": "ipython3",
      "version": "3.11.7"
    },
    "colab": {
      "provenance": []
    }
  },
  "nbformat": 4,
  "nbformat_minor": 0
}